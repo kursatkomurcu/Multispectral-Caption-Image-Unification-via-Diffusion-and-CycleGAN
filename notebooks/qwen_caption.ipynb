{
 "cells": [
  {
   "cell_type": "code",
   "execution_count": null,
   "id": "a987613d",
   "metadata": {},
   "outputs": [],
   "source": [
    "!pip install qwen-vl-utils"
   ]
  },
  {
   "cell_type": "code",
   "execution_count": null,
   "id": "17297822",
   "metadata": {},
   "outputs": [],
   "source": [
    "import torch\n",
    "import os\n",
    "import pandas as pd\n",
    "from PIL import Image\n",
    "from transformers import Qwen2VLForConditionalGeneration, AutoProcessor\n",
    "from qwen_vl_utils import process_vision_info\n",
    "\n",
    "model_name = \"Qwen/Qwen2-VL-2B-Instruct\"\n",
    "device = \"cuda\" if torch.cuda.is_available() else \"cpu\"\n",
    "\n",
    "model = Qwen2VLForConditionalGeneration.from_pretrained(\n",
    "    model_name, torch_dtype=\"auto\", device_map=\"auto\"\n",
    ").to(device)\n",
    "\n",
    "processor = AutoProcessor.from_pretrained(model_name)"
   ]
  },
  {
   "cell_type": "code",
   "execution_count": null,
   "id": "95dd3137",
   "metadata": {},
   "outputs": [],
   "source": [
    "image_folder = \"/content/drive/MyDrive\" \n",
    "csv_file_path = \"/content/drive/MyDrive/SkyScript_train_unfiltered_5M.csv\"\n",
    "output_csv_file = \"/content/drive/MyDrive/updated_annotations.csv\"\n",
    "\n",
    "df_filtered = pd.read_csv(output_csv_file)"
   ]
  },
  {
   "cell_type": "code",
   "execution_count": null,
   "id": "f164a042",
   "metadata": {},
   "outputs": [],
   "source": [
    "prompt_text = \"Generate a caption for the satellite image.\"\n",
    "\n",
    "save_every = 100  \n",
    "\n",
    "for idx, row in df_filtered.iterrows():\n",
    "    # print(\"Idx: \", row)\n",
    "    if pd.notna(row['generated_captions']) and str(row['generated_captions']).strip().lower() not in [\"\", \"nan\"]:\n",
    "        print(f\"ℹ️ Line {idx} are skipping: There is a caption.\")\n",
    "        continue\n",
    "\n",
    "    img_file = row[\"filepath\"]  \n",
    "    img_path = os.path.join(image_folder, img_file)  \n",
    "\n",
    "    if os.path.exists(img_path):\n",
    "        image = Image.open(img_path).convert(\"RGB\")\n",
    "\n",
    "        messages = [\n",
    "            {\n",
    "                \"role\": \"user\",\n",
    "                \"content\": [\n",
    "                    {\"type\": \"image\", \"image\": img_path},\n",
    "                    {\"type\": \"text\", \"text\": prompt_text},\n",
    "                ],\n",
    "            }\n",
    "        ]\n",
    "\n",
    "        text_input = processor.apply_chat_template(\n",
    "            messages, tokenize=False, add_generation_prompt=True\n",
    "        )\n",
    "        image_inputs, video_inputs = process_vision_info(messages)\n",
    "\n",
    "        inputs = processor(\n",
    "            text=[text_input],\n",
    "            images=image_inputs,\n",
    "            videos=video_inputs,\n",
    "            padding=True,\n",
    "            return_tensors=\"pt\",\n",
    "        ).to(device)\n",
    "\n",
    "        with torch.no_grad():\n",
    "            generated_ids = model.generate(**inputs, max_new_tokens=128)\n",
    "            generated_ids_trimmed = [\n",
    "                out_ids[len(in_ids):]\n",
    "                for in_ids, out_ids in zip(inputs.input_ids, generated_ids)\n",
    "            ]\n",
    "            caption = processor.batch_decode(\n",
    "                generated_ids_trimmed,\n",
    "                skip_special_tokens=True,\n",
    "                clean_up_tokenization_spaces=False,\n",
    "            )[0]\n",
    "\n",
    "        df_filtered.at[idx, \"generated_captions\"] = caption\n",
    "        print(f\"✅ Processed {idx}: {img_file} → {caption}\")\n",
    "\n",
    "        if idx % save_every == 0 and idx > 0:\n",
    "            df_filtered.to_csv(output_csv_file, index=False)\n",
    "            print(f\"💾 {output_csv_file} file was saved (Step {idx}).\")\n",
    "\n",
    "df_filtered.to_csv(output_csv_file, index=False)\n",
    "print(\"✅ All captions were generated and updated csv file was saved.\")"
   ]
  }
 ],
 "metadata": {
  "kernelspec": {
   "display_name": "myEnv",
   "language": "python",
   "name": "python3"
  },
  "language_info": {
   "name": "python",
   "version": "3.10.13"
  }
 },
 "nbformat": 4,
 "nbformat_minor": 5
}
